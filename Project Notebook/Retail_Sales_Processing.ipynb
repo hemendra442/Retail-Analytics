{
 "cells": [
  {
   "cell_type": "code",
   "execution_count": 0,
   "metadata": {
    "application/vnd.databricks.v1+cell": {
     "cellMetadata": {
      "byteLimit": 2048000,
      "rowLimit": 10000
     },
     "inputWidgets": {},
     "nuid": "e7b65841-62a1-48aa-b2c1-04f22117c957",
     "showTitle": false,
     "title": ""
    }
   },
   "outputs": [],
   "source": [
    "#libraties\n",
    "from pyspark.sql.functions import year, month, dayofmonth\n"
   ]
  },
  {
   "cell_type": "code",
   "execution_count": 0,
   "metadata": {
    "application/vnd.databricks.v1+cell": {
     "cellMetadata": {
      "byteLimit": 2048000,
      "rowLimit": 10000
     },
     "inputWidgets": {},
     "nuid": "29acb1e6-dab9-44e1-b993-e20f78b391df",
     "showTitle": false,
     "title": ""
    }
   },
   "outputs": [],
   "source": [
    "# Get the data frames from Retail Data Analysis notebook using 3 different ways\n",
    "\n",
    "# Access the global temporary view for customer df\n",
    "df_customer = spark.sql(\"SELECT * FROM global_temp.df_customer_GloabalTempBiew\")\n",
    "\n",
    "# Access the  global temporary view for products df\n",
    "df_products = spark.sql(\"SELECT * FROM global_temp.df_products_GloabalTempBiew\")\n",
    "\n",
    "# Access the parquet file\n",
    "df_stores = spark.read.format(\"parquet\").load(\"/tmp/df_stores_wr\")\n",
    "\n",
    "# Run another notebook\n",
    "#result = dbutils.notebook.run(\"Path/to/your/Notebook\", timeout_seconds, {\"argument\": \"value\"})\n"
   ]
  },
  {
   "cell_type": "code",
   "execution_count": 0,
   "metadata": {
    "application/vnd.databricks.v1+cell": {
     "cellMetadata": {
      "byteLimit": 2048000,
      "rowLimit": 10000
     },
     "inputWidgets": {},
     "nuid": "9452429b-5bcd-4c84-a4e9-15da7c0418c3",
     "showTitle": false,
     "title": ""
    }
   },
   "outputs": [
    {
     "output_type": "stream",
     "name": "stdout",
     "output_type": "stream",
     "text": [
      "<class 'pyspark.sql.dataframe.DataFrame'> <class 'pyspark.sql.dataframe.DataFrame'> <class 'pyspark.sql.dataframe.DataFrame'>\n"
     ]
    }
   ],
   "source": [
    "print(type(df_customer), type(df_products), type(df_stores))"
   ]
  },
  {
   "cell_type": "code",
   "execution_count": 0,
   "metadata": {
    "application/vnd.databricks.v1+cell": {
     "cellMetadata": {
      "byteLimit": 2048000,
      "rowLimit": 10000
     },
     "inputWidgets": {},
     "nuid": "c4e50f96-cad4-4efe-a236-2238c34fefc6",
     "showTitle": false,
     "title": ""
    }
   },
   "outputs": [
    {
     "output_type": "stream",
     "name": "stdout",
     "output_type": "stream",
     "text": [
      "+-----------+---------------+---------+-------------+---------------+----------+-----------+------+---+\n|Customer_ID|  Customer_Name|  Segment|      Country|           City|     State|Postal_Code|Region|Age|\n+-----------+---------------+---------+-------------+---------------+----------+-----------+------+---+\n|   CG/12520|    Claire Gute| Consumer|United States|      Henderson|  Kentucky|      42420| South| 42|\n|   DV/13045|Darrin Van Huff|Corporate|United States|    Los Angeles|California|      90036|  West| 47|\n|   SO/20335| Sean O'Donnell| Consumer|United States|Fort Lauderdale|   Florida|      33311| South| 19|\n+-----------+---------------+---------+-------------+---------------+----------+-----------+------+---+\nonly showing top 3 rows\n\n+---------------+---------------+------------+--------------------+\n|     Product_ID|       Category|Sub_Category|        Product_Name|\n+---------------+---------------+------------+--------------------+\n|FUR-BO-10001798|      Furniture|   Bookcases|Bush Somerset Col...|\n|FUR-CH-10000454|      Furniture|      Chairs|Hon Deluxe Fabric...|\n|OFF-LA-10000240|Office Supplies|      Labels|Self-Adhesive Add...|\n+---------------+---------------+------------+--------------------+\nonly showing top 3 rows\n\n+------+--------------+----------+----------+------------+-----------+---------------+---------+--------+\n|Row_ID|      Order_ID|Order_Date| Ship_Date|   Ship_Mode|Customer_ID|     Product_ID|    Sales|Discount|\n+------+--------------+----------+----------+------------+-----------+---------------+---------+--------+\n|     1|CA-2017-152156|2017-11-08|2017-11-11|Second Class|   CG/12520|FUR-BO-10001798|3929400.0|    0.02|\n|     2|CA-2017-152156|2017-11-08|2017-11-11|Second Class|   CG/12520|FUR-CH-10000454|1.09791E7|    0.01|\n|     3|CA-2017-138688|2017-06-12|2017-06-16|Second Class|   DV/13045|OFF-LA-10000240| 219300.0|    0.01|\n+------+--------------+----------+----------+------------+-----------+---------------+---------+--------+\nonly showing top 3 rows\n\n"
     ]
    }
   ],
   "source": [
    "df_customer.show(3)\n",
    "df_products.show(3)\n",
    "df_stores.show(3)"
   ]
  },
  {
   "cell_type": "code",
   "execution_count": 0,
   "metadata": {
    "application/vnd.databricks.v1+cell": {
     "cellMetadata": {
      "byteLimit": 2048000,
      "rowLimit": 10000
     },
     "inputWidgets": {},
     "nuid": "eff812ee-1f17-4399-81a9-be997f79f928",
     "showTitle": false,
     "title": ""
    }
   },
   "outputs": [
    {
     "output_type": "stream",
     "name": "stdout",
     "output_type": "stream",
     "text": [
      " df_customer DF shape:  (793, 9)\n df_products DF shape:  (1861, 4)\n df_stores DF shape:  (9800, 9)\n"
     ]
    }
   ],
   "source": [
    "#Shape (Rows/Column count) of Source DF\n",
    "print(\" df_customer DF shape: \",(df_customer.count(), len(df_customer.columns)))\n",
    "print(\" df_products DF shape: \",(df_products.count(), len(df_products.columns)))\n",
    "print(\" df_stores DF shape: \",(df_stores.count(), len(df_stores.columns)))\n"
   ]
  },
  {
   "cell_type": "code",
   "execution_count": 0,
   "metadata": {
    "application/vnd.databricks.v1+cell": {
     "cellMetadata": {
      "byteLimit": 2048000,
      "rowLimit": 10000
     },
     "inputWidgets": {},
     "nuid": "59e7692a-4ae1-499c-83c3-293e46562e66",
     "showTitle": false,
     "title": ""
    }
   },
   "outputs": [],
   "source": [
    "# Assuming the Date column is of type Date. If it's a string, you might need to convert it first\n",
    "df_stores=df_stores.withColumn(\"Order_Year\", year(\"Order_Date\"))\\\n",
    ".withColumn(\"Order_Month\", month(\"Order_Date\"))\\\n",
    ".withColumn(\"Order_Day\", dayofmonth(\"Order_Date\"))"
   ]
  },
  {
   "cell_type": "code",
   "execution_count": 0,
   "metadata": {
    "application/vnd.databricks.v1+cell": {
     "cellMetadata": {
      "byteLimit": 2048000,
      "rowLimit": 10000
     },
     "inputWidgets": {},
     "nuid": "eb8a2810-867e-4ca6-94e3-ebb212c3e1eb",
     "showTitle": false,
     "title": ""
    }
   },
   "outputs": [
    {
     "output_type": "stream",
     "name": "stdout",
     "output_type": "stream",
     "text": [
      "+----------+----------+-----------+---------+\n|Order_Date|Order_Year|Order_Month|Order_Day|\n+----------+----------+-----------+---------+\n|2017-11-08|      2017|         11|        8|\n|2017-11-08|      2017|         11|        8|\n|2017-06-12|      2017|          6|       12|\n+----------+----------+-----------+---------+\nonly showing top 3 rows\n\n"
     ]
    }
   ],
   "source": [
    "df_stores.select(['Order_Date','Order_Year','Order_Month', 'Order_Day']).show(3)"
   ]
  },
  {
   "cell_type": "code",
   "execution_count": 0,
   "metadata": {
    "application/vnd.databricks.v1+cell": {
     "cellMetadata": {
      "byteLimit": 2048000,
      "rowLimit": 10000
     },
     "inputWidgets": {},
     "nuid": "1cb364ea-da7e-4c3e-8453-08b1d783691d",
     "showTitle": false,
     "title": ""
    }
   },
   "outputs": [
    {
     "output_type": "stream",
     "name": "stdout",
     "output_type": "stream",
     "text": [
      "(9800, 15)\n"
     ]
    }
   ],
   "source": [
    "#join custome dataset\n",
    "df_stores_cust = df_stores.join(df_customer,\"Customer_ID\", \"left\").select(df_stores[\"*\"], df_customer[\"Segment\"],df_customer[\"Region\"],df_customer[\"Age\"] )\n",
    "\n",
    "print((df_stores_cust.count(), len(df_stores_cust.columns)))\n",
    "#df_stores_cust.columns"
   ]
  },
  {
   "cell_type": "code",
   "execution_count": 0,
   "metadata": {
    "application/vnd.databricks.v1+cell": {
     "cellMetadata": {
      "byteLimit": 2048000,
      "rowLimit": 10000
     },
     "inputWidgets": {},
     "nuid": "1ef8e4ab-7498-4822-bdd5-fe3f32a2f650",
     "showTitle": false,
     "title": ""
    }
   },
   "outputs": [
    {
     "output_type": "stream",
     "name": "stdout",
     "output_type": "stream",
     "text": [
      "(9800, 17)\n"
     ]
    }
   ],
   "source": [
    "#Joining Product dataset\n",
    "df_stores_cust_product = df_stores_cust.join(df_products, \"Product_Id\").select(df_stores_cust[\"*\"], df_products[\"Category\"],df_products[\"Sub_Category\"])\n",
    "\n",
    "print((df_stores_cust_product.count(), len(df_stores_cust_product.columns)))\n",
    "#df_stores_cust_product.columns"
   ]
  },
  {
   "cell_type": "code",
   "execution_count": 0,
   "metadata": {
    "application/vnd.databricks.v1+cell": {
     "cellMetadata": {
      "byteLimit": 2048000,
      "rowLimit": 10000
     },
     "inputWidgets": {},
     "nuid": "090abe5e-1370-4207-b5b9-13d7c8da8676",
     "showTitle": false,
     "title": ""
    }
   },
   "outputs": [
    {
     "output_type": "stream",
     "name": "stdout",
     "output_type": "stream",
     "text": [
      "Target Dataset Shape:  (9800, 17)\n"
     ]
    }
   ],
   "source": [
    "df_fianl = df_stores_cust_product.withColumnRenamed(\"Segment\", \"Cust_Segment\")\\\n",
    "    .withColumnRenamed(\"Region\", \"Cust_Region\")\\\n",
    "    .withColumnRenamed(\"Age\",\"Cust_Age\")\\\n",
    "    .withColumnRenamed(\"Category\", \"Product_Cat\")\\\n",
    "    .withColumnRenamed(\"Sub_Category\", \"Product_SubCat\")\n",
    "\n",
    "df_fianl.columns\n",
    "\n",
    "#Target Dataset Shape\n",
    "print(\"Target Dataset Shape: \",(df_fianl.count(), len(df_fianl.columns)))"
   ]
  },
  {
   "cell_type": "code",
   "execution_count": 0,
   "metadata": {
    "application/vnd.databricks.v1+cell": {
     "cellMetadata": {
      "byteLimit": 2048000,
      "rowLimit": 10000
     },
     "inputWidgets": {},
     "nuid": "b599952c-0bf3-450d-83f5-ae110924228f",
     "showTitle": false,
     "title": ""
    }
   },
   "outputs": [],
   "source": [
    "# Write the DataFrame to ADLS as Parquet (or replace with your desired format)\n",
    "df_fianl.write.mode(\"overwrite\").option(\"header\",True).csv(\"/mnt/retail/Processed Data/\")"
   ]
  },
  {
   "cell_type": "code",
   "execution_count": 0,
   "metadata": {
    "application/vnd.databricks.v1+cell": {
     "cellMetadata": {
      "byteLimit": 2048000,
      "rowLimit": 10000
     },
     "inputWidgets": {},
     "nuid": "4eaaf66e-ca5d-4e34-b585-f8b07b19b0eb",
     "showTitle": false,
     "title": ""
    }
   },
   "outputs": [
    {
     "output_type": "stream",
     "name": "stdout",
     "output_type": "stream",
     "text": [
      "Out[22]: [FileInfo(path='dbfs:/mnt/retail/Processed Data/_SUCCESS', name='_SUCCESS', size=0, modificationTime=1708298366000),\n FileInfo(path='dbfs:/mnt/retail/Processed Data/_committed_2653544037628221569', name='_committed_2653544037628221569', size=112, modificationTime=1708298363000),\n FileInfo(path='dbfs:/mnt/retail/Processed Data/_started_2653544037628221569', name='_started_2653544037628221569', size=0, modificationTime=1708298359000),\n FileInfo(path='dbfs:/mnt/retail/Processed Data/part-00000-tid-2653544037628221569-d812eb41-5d24-430a-923b-3f9c6e812e63-24-1-c000.csv', name='part-00000-tid-2653544037628221569-d812eb41-5d24-430a-923b-3f9c6e812e63-24-1-c000.csv', size=1429814, modificationTime=1708298362000)]"
     ]
    }
   ],
   "source": [
    "#Verify ADLS Written Success!\n",
    "dbutils.fs.ls(\"/mnt/retail/Processed Data/\")"
   ]
  }
 ],
 "metadata": {
  "application/vnd.databricks.v1+notebook": {
   "dashboards": [],
   "language": "python",
   "notebookMetadata": {
    "pythonIndentUnit": 4
   },
   "notebookName": "Retail_Sales_Processing",
   "widgets": {}
  }
 },
 "nbformat": 4,
 "nbformat_minor": 0
}
