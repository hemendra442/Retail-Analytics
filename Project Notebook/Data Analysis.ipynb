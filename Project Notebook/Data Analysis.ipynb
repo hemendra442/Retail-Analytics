{
 "cells": [
  {
   "cell_type": "code",
   "execution_count": 0,
   "metadata": {
    "application/vnd.databricks.v1+cell": {
     "cellMetadata": {
      "byteLimit": 2048000,
      "rowLimit": 10000
     },
     "inputWidgets": {},
     "nuid": "8e16aba4-871c-4947-99a7-d731135a4202",
     "showTitle": false,
     "title": ""
    }
   },
   "outputs": [
    {
     "output_type": "stream",
     "name": "stdout",
     "output_type": "stream",
     "text": [
      "/mnt/retail has been unmounted.\nOut[41]: True"
     ]
    }
   ],
   "source": [
    "dbutils.fs.unmount('/mnt/retail')"
   ]
  },
  {
   "cell_type": "code",
   "execution_count": 0,
   "metadata": {
    "application/vnd.databricks.v1+cell": {
     "cellMetadata": {
      "byteLimit": 2048000,
      "rowLimit": 10000
     },
     "inputWidgets": {},
     "nuid": "d8c697a3-460f-485d-86a8-cf80504ff58d",
     "showTitle": false,
     "title": ""
    }
   },
   "outputs": [
    {
     "output_type": "stream",
     "name": "stdout",
     "output_type": "stream",
     "text": [
      "Out[43]: True"
     ]
    }
   ],
   "source": [
    "#Connect to ADL gen 2 using Access Key\n",
    "dbutils.fs.mount(\n",
    "  source = \"wasbs://retail-4ysales@projectpro.blob.core.windows.net\",\n",
    "  mount_point = \"/mnt/retail\",\n",
    "  extra_configs = {\"fs.azure.account.key.projectpro.blob.core.windows.net\" : \"0iLQdIZE7A5FddGLF4B4z4BglCiOQt4IGrrPVZ2XSpQGOS3ouAJ7zOUDqeTBKpAHyL/6SI2epzVH+AStPV1v+w==\"})"
   ]
  },
  {
   "cell_type": "code",
   "execution_count": 0,
   "metadata": {
    "application/vnd.databricks.v1+cell": {
     "cellMetadata": {
      "byteLimit": 2048000,
      "rowLimit": 10000
     },
     "inputWidgets": {},
     "nuid": "59d34625-4adc-4cf9-b8c7-77ca0af5bfbb",
     "showTitle": false,
     "title": ""
    }
   },
   "outputs": [
    {
     "output_type": "stream",
     "name": "stdout",
     "output_type": "stream",
     "text": [
      "Processed Data/\nRwaData/\n"
     ]
    }
   ],
   "source": [
    "#folders in retail 4 years container\n",
    "for file in dbutils.fs.ls('/mnt/retail'):\n",
    "    print(file.name)"
   ]
  },
  {
   "cell_type": "code",
   "execution_count": 0,
   "metadata": {
    "application/vnd.databricks.v1+cell": {
     "cellMetadata": {
      "byteLimit": 2048000,
      "rowLimit": 10000
     },
     "inputWidgets": {},
     "nuid": "d296f027-6d9d-4441-8ed8-53f14bee8167",
     "showTitle": false,
     "title": ""
    }
   },
   "outputs": [
    {
     "output_type": "stream",
     "name": "stdout",
     "output_type": "stream",
     "text": [
      "dbfs:/mnt/retail/Processed Data/\ndbfs:/mnt/retail/RwaData/\n  dbfs:/mnt/retail/RwaData/Logs/\n  customer\n  e6dd8201-c874-4ef5-9d6c-88c2970754fd\n  products\n  stores\n"
     ]
    }
   ],
   "source": [
    "#folders in retail 4 years container\n",
    "\n",
    "def list_all_subfolders(path, depth=0):\n",
    "    try:\n",
    "        # List all items at the current path\n",
    "        items = dbutils.fs.ls(path)\n",
    "        \n",
    "        # Iterate through the items\n",
    "        for item in items:\n",
    "            \n",
    "            # Check if the item is a directory\n",
    "            if item.isDir():\n",
    "                # Print the directory path\n",
    "                print(\"  \" * depth + item.path)\n",
    "                \n",
    "                # Recursively list the contents of the directory\n",
    "                list_all_subfolders(item.path, depth + 1)\n",
    "            else:\n",
    "                print(\"  \" * depth + item.name)\n",
    "\n",
    "                \n",
    "    except Exception as e:\n",
    "        print(f\"Error accessing path {path}: {str(e)}\")\n",
    "\n",
    "# Example usage:\n",
    "path_to_list = \"/mnt/retail\"  # Example path, adjust according to your needs\n",
    "list_all_subfolders(path_to_list)\n"
   ]
  },
  {
   "cell_type": "code",
   "execution_count": 0,
   "metadata": {
    "application/vnd.databricks.v1+cell": {
     "cellMetadata": {
      "byteLimit": 2048000,
      "rowLimit": 10000
     },
     "inputWidgets": {},
     "nuid": "ba82f651-5cc4-458d-a5cc-acd69ca60448",
     "showTitle": false,
     "title": ""
    }
   },
   "outputs": [],
   "source": [
    "mnt_rawdata = '/mnt/retail/RwaData/'\n",
    "\n",
    "for data in dbutils.fs.ls(mnt_rawdata):\n",
    "    if data.name =='customer':\n",
    "        df_customer = spark.read.option(\"Header\",True).csv(data.path,inferSchema=True)\n",
    "    if data.name =='products':\n",
    "        df_products = spark.read.option(\"Header\",True).csv(data.path,inferSchema=True)\n",
    "    if data.name == 'stores':\n",
    "        df_stores = spark.read.option(\"header\",True).csv(data.path, inferSchema=True)\n"
   ]
  },
  {
   "cell_type": "code",
   "execution_count": 0,
   "metadata": {
    "application/vnd.databricks.v1+cell": {
     "cellMetadata": {
      "byteLimit": 2048000,
      "rowLimit": 10000
     },
     "inputWidgets": {},
     "nuid": "94a036f4-6323-4c9a-96d8-54d62ab40ea4",
     "showTitle": false,
     "title": ""
    }
   },
   "outputs": [
    {
     "output_type": "stream",
     "name": "stdout",
     "output_type": "stream",
     "text": [
      "+-----------+---------------+---------+-------------+---------------+----------+-----------+------+---+\n|Customer_ID|  Customer_Name|  Segment|      Country|           City|     State|Postal_Code|Region|Age|\n+-----------+---------------+---------+-------------+---------------+----------+-----------+------+---+\n|   CG/12520|    Claire Gute| Consumer|United States|      Henderson|  Kentucky|      42420| South| 42|\n|   DV/13045|Darrin Van Huff|Corporate|United States|    Los Angeles|California|      90036|  West| 47|\n|   SO/20335| Sean O'Donnell| Consumer|United States|Fort Lauderdale|   Florida|      33311| South| 19|\n+-----------+---------------+---------+-------------+---------------+----------+-----------+------+---+\nonly showing top 3 rows\n\n"
     ]
    }
   ],
   "source": [
    "df_customer.show(3)"
   ]
  },
  {
   "cell_type": "code",
   "execution_count": 0,
   "metadata": {
    "application/vnd.databricks.v1+cell": {
     "cellMetadata": {
      "byteLimit": 2048000,
      "rowLimit": 10000
     },
     "inputWidgets": {},
     "nuid": "99e0f0ed-3548-4301-8bcb-c11720aaf05b",
     "showTitle": false,
     "title": ""
    }
   },
   "outputs": [
    {
     "output_type": "stream",
     "name": "stdout",
     "output_type": "stream",
     "text": [
      "Customer_Count:  793 \n Product_Count:  1861 \n Stores_Count:  9800\n"
     ]
    }
   ],
   "source": [
    "#Data frames row count\n",
    "print(\"Customer_Count: \",df_customer.count(),\n",
    "       \"\\n Product_Count: \",df_products.count(),\n",
    "        \"\\n Stores_Count: \", df_stores.count())"
   ]
  },
  {
   "cell_type": "code",
   "execution_count": 0,
   "metadata": {
    "application/vnd.databricks.v1+cell": {
     "cellMetadata": {
      "byteLimit": 2048000,
      "rowLimit": 10000
     },
     "inputWidgets": {},
     "nuid": "fe9a9c65-7dc5-4c6f-8744-c7325c72124d",
     "showTitle": false,
     "title": ""
    }
   },
   "outputs": [],
   "source": [
    "# Assuming df is your PySpark DataFrame\n",
    "df_customer.createOrReplaceGlobalTempView(\"df_customer_GloabalTempBiew\")\n",
    "\n",
    "# Assuming df is your PySpark DataFrame\n",
    "df_products.createOrReplaceGlobalTempView(\"df_products_GloabalTempBiew\")\n",
    "\n",
    "#df_stores.write.format(\"parquet\").save(\"/tmp/df_stores_wr\")"
   ]
  },
  {
   "cell_type": "code",
   "execution_count": 0,
   "metadata": {
    "application/vnd.databricks.v1+cell": {
     "cellMetadata": {
      "byteLimit": 2048000,
      "rowLimit": 10000
     },
     "inputWidgets": {},
     "nuid": "f73eabc4-f5ad-4402-81ba-48928a964efa",
     "showTitle": false,
     "title": ""
    }
   },
   "outputs": [
    {
     "output_type": "display_data",
     "data": {
      "text/html": [
       "<style scoped>\n",
       "  .table-result-container {\n",
       "    max-height: 300px;\n",
       "    overflow: auto;\n",
       "  }\n",
       "  table, th, td {\n",
       "    border: 1px solid black;\n",
       "    border-collapse: collapse;\n",
       "  }\n",
       "  th, td {\n",
       "    padding: 5px;\n",
       "  }\n",
       "  th {\n",
       "    text-align: left;\n",
       "  }\n",
       "</style><div class='table-result-container'><table class='table-result'><thead style='background-color: white'><tr><th>Segment</th></tr></thead><tbody><tr><td>Consumer</td></tr><tr><td>Home Office</td></tr><tr><td>Corporate</td></tr></tbody></table></div>"
      ]
     },
     "metadata": {
      "application/vnd.databricks.v1+output": {
       "addedWidgets": {},
       "aggData": [],
       "aggError": "",
       "aggOverflow": false,
       "aggSchema": [],
       "aggSeriesLimitReached": false,
       "aggType": "",
       "arguments": {},
       "columnCustomDisplayInfos": {},
       "data": [
        [
         "Consumer"
        ],
        [
         "Home Office"
        ],
        [
         "Corporate"
        ]
       ],
       "datasetInfos": [],
       "dbfsResultPath": null,
       "isJsonSchema": true,
       "metadata": {},
       "overflow": false,
       "plotOptions": {
        "customPlotOptions": {},
        "displayType": "table",
        "pivotAggregation": null,
        "pivotColumns": null,
        "xColumns": null,
        "yColumns": null
       },
       "removedWidgets": [],
       "schema": [
        {
         "metadata": "{}",
         "name": "Segment",
         "type": "\"string\""
        }
       ],
       "type": "table"
      }
     },
     "output_type": "display_data"
    }
   ],
   "source": [
    "df_customer.select('Segment').distinct().display()"
   ]
  },
  {
   "cell_type": "code",
   "execution_count": 0,
   "metadata": {
    "application/vnd.databricks.v1+cell": {
     "cellMetadata": {
      "byteLimit": 2048000,
      "rowLimit": 10000
     },
     "inputWidgets": {},
     "nuid": "2e5d75e7-d463-4cfd-8e69-f96564b3b61a",
     "showTitle": false,
     "title": ""
    }
   },
   "outputs": [
    {
     "output_type": "stream",
     "name": "stdout",
     "output_type": "stream",
     "text": [
      "+-------+------------------+--------------+--------------+-----------+---------------+------------------+--------------------+\n|summary|            Row_ID|      Order_ID|     Ship_Mode|Customer_ID|     Product_ID|             Sales|            Discount|\n+-------+------------------+--------------+--------------+-----------+---------------+------------------+--------------------+\n|  count|              9800|          9800|          9800|       9800|           9800|              9770|                9800|\n|   mean|            4900.5|          null|          null|       null|           null|3472113.5476458548|0.020096938775510883|\n| stddev|2829.1606529145706|          null|          null|       null|           null| 9412258.529173262|0.008120733444776835|\n|    min|                 1|CA-2015-100006|   First Class|   AA/10315|FUR-BO-10000112|           21120.0|                0.01|\n|    max|              9800|US-2018-169551|Standard Class|   ZD/21925|TEC-PH-10004977|        3.395772E8|                0.03|\n+-------+------------------+--------------+--------------+-----------+---------------+------------------+--------------------+\n\n+-------+---------------+----------+------------+--------------------+\n|summary|     Product_ID|  Category|Sub_Category|        Product_Name|\n+-------+---------------+----------+------------+--------------------+\n|  count|           1861|      1861|        1861|                1861|\n|   mean|           null|      null|        null|                null|\n| stddev|           null|      null|        null|                null|\n|    min|FUR-BO-10000112| Furniture| Accessories|\"\"\"While you Were...|\n|    max|TEC-PH-10004977|Technology|      Tables|netTALK DUO VoIP ...|\n+-------+---------------+----------+------------+--------------------+\n\n"
     ]
    }
   ],
   "source": [
    "\n",
    "df_stores.describe().show()\n",
    "df_products.describe().show()"
   ]
  },
  {
   "cell_type": "code",
   "execution_count": 0,
   "metadata": {
    "application/vnd.databricks.v1+cell": {
     "cellMetadata": {
      "byteLimit": 2048000,
      "rowLimit": 10000
     },
     "inputWidgets": {},
     "nuid": "b3a6fb6c-aef5-423f-a138-c65defa7d9ce",
     "showTitle": false,
     "title": ""
    }
   },
   "outputs": [
    {
     "output_type": "stream",
     "name": "stdout",
     "output_type": "stream",
     "text": [
      "+-------+-----------+------------------+-----------+-------------+----------+---------+------------------+-------+------------------+\n|summary|Customer_ID|     Customer_Name|    Segment|      Country|      City|    State|       Postal_Code| Region|               Age|\n+-------+-----------+------------------+-----------+-------------+----------+---------+------------------+-------+------------------+\n|  count|        793|               793|        793|          793|       793|      793|               793|    793|               793|\n|   mean|       null|              null|       null|         null|      null|     null|55229.717528373265|   null|33.746532156368225|\n| stddev|       null|              null|       null|         null|      null|     null| 31679.22381580119|   null| 8.628123278990753|\n|    min|   AA/10315|     Aaron Bergman|   Consumer|United States|     Akron|  Alabama|              1841|Central|                19|\n|    max|   ZD/21925|Zuschuss Donatelli|Home Office|United States|Wilmington|Wisconsin|             99207|   West|                48|\n+-------+-----------+------------------+-----------+-------------+----------+---------+------------------+-------+------------------+\n\n"
     ]
    }
   ],
   "source": [
    "df_customer.describe().show()"
   ]
  },
  {
   "cell_type": "code",
   "execution_count": 0,
   "metadata": {
    "application/vnd.databricks.v1+cell": {
     "cellMetadata": {
      "byteLimit": 2048000,
      "rowLimit": 10000
     },
     "inputWidgets": {},
     "nuid": "58636318-70c6-4499-8feb-a89a4ccf58e4",
     "showTitle": false,
     "title": ""
    }
   },
   "outputs": [
    {
     "output_type": "stream",
     "name": "stdout",
     "output_type": "stream",
     "text": [
      "<class 'pyspark.sql.dataframe.DataFrame'>\n"
     ]
    }
   ],
   "source": [
    "source_df = [df_customer,df_products, df_stores]\n",
    "print(type(source_df[0]))"
   ]
  },
  {
   "cell_type": "code",
   "execution_count": 0,
   "metadata": {
    "application/vnd.databricks.v1+cell": {
     "cellMetadata": {
      "byteLimit": 2048000,
      "rowLimit": 10000
     },
     "inputWidgets": {},
     "nuid": "81864a17-4d59-46f9-b070-fa661e5813e2",
     "showTitle": false,
     "title": ""
    }
   },
   "outputs": [
    {
     "output_type": "stream",
     "name": "stdout",
     "output_type": "stream",
     "text": [
      "DataFrame[Customer_ID: string, Customer_Name: string, Segment: string, Country: string, City: string, State: string, Postal_Code: int, Region: string, Age: int]  Columns\nCustomer_ID  Distinct Values : \n+-----------+\n|Customer_ID|\n+-----------+\n|   IM/15070|\n|   SO/20335|\n|   AA/10480|\n|   CG/12520|\n|   DV/13045|\n+-----------+\nonly showing top 5 rows\n\nCustomer_Name  Distinct Values : \n+---------------+\n|  Customer_Name|\n+---------------+\n|    Claire Gute|\n| Sean O'Donnell|\n|   Irene Maddox|\n|Darrin Van Huff|\n|Brosina Hoffman|\n+---------------+\nonly showing top 5 rows\n\nSegment  Distinct Values : \n+-----------+\n|    Segment|\n+-----------+\n|   Consumer|\n|Home Office|\n|  Corporate|\n+-----------+\n\nCountry  Distinct Values : \n+-------------+\n|      Country|\n+-------------+\n|United States|\n+-------------+\n\nCity  Distinct Values : \n+---------------+\n|           City|\n+---------------+\n|    Los Angeles|\n|Fort Lauderdale|\n|        Seattle|\n|      Henderson|\n|        Concord|\n+---------------+\nonly showing top 5 rows\n\nState  Distinct Values : \n+--------------+\n|         State|\n+--------------+\n|         Texas|\n|    Washington|\n|North Carolina|\n|      Kentucky|\n|       Florida|\n+--------------+\nonly showing top 5 rows\n\nPostal_Code  Distinct Values : \n+-----------+\n|Postal_Code|\n+-----------+\n|      33311|\n|      28027|\n|      98103|\n|      90036|\n|      42420|\n+-----------+\nonly showing top 5 rows\n\nRegion  Distinct Values : \n+-------+\n| Region|\n+-------+\n|  South|\n|Central|\n|   East|\n|   West|\n+-------+\n\nAge  Distinct Values : \n+---+\n|Age|\n+---+\n| 31|\n| 47|\n| 19|\n| 39|\n| 45|\n+---+\nonly showing top 5 rows\n\nDataFrame[Product_ID: string, Category: string, Sub_Category: string, Product_Name: string]  Columns\nProduct_ID  Distinct Values : \n+---------------+\n|     Product_ID|\n+---------------+\n|OFF-LA-10000240|\n|FUR-TA-10000577|\n|OFF-ST-10000760|\n|FUR-BO-10001798|\n|FUR-FU-10001487|\n+---------------+\nonly showing top 5 rows\n\nCategory  Distinct Values : \n+---------------+\n|       Category|\n+---------------+\n|Office Supplies|\n|      Furniture|\n|     Technology|\n+---------------+\n\nSub_Category  Distinct Values : \n+------------+\n|Sub_Category|\n+------------+\n|      Chairs|\n| Furnishings|\n|   Bookcases|\n|      Labels|\n|     Storage|\n+------------+\nonly showing top 5 rows\n\nProduct_Name  Distinct Values : \n+--------------------+\n|        Product_Name|\n+--------------------+\n|Eldon Fold 'N Rol...|\n|Hon Deluxe Fabric...|\n|Self-Adhesive Add...|\n|Bush Somerset Col...|\n|Bretford CR4500 S...|\n+--------------------+\nonly showing top 5 rows\n\nDataFrame[Row_ID: int, Order_ID: string, Order_Date: date, Ship_Date: date, Ship_Mode: string, Customer_ID: string, Product_ID: string, Sales: double, Discount: double]  Columns\nRow_ID  Distinct Values : \n+------+\n|Row_ID|\n+------+\n|     1|\n|     6|\n|     3|\n|     5|\n|     4|\n+------+\nonly showing top 5 rows\n\nOrder_ID  Distinct Values : \n+--------------+\n|      Order_ID|\n+--------------+\n|CA-2018-114412|\n|CA-2015-115812|\n|CA-2017-152156|\n|CA-2017-161389|\n|US-2016-108966|\n+--------------+\nonly showing top 5 rows\n\nOrder_Date  Distinct Values : \n+----------+\n|Order_Date|\n+----------+\n|2015-06-09|\n|2018-04-15|\n|2017-12-05|\n|2017-11-08|\n|2016-10-11|\n+----------+\nonly showing top 5 rows\n\nShip_Date  Distinct Values : \n+----------+\n| Ship_Date|\n+----------+\n|2017-12-10|\n|2017-06-16|\n|2017-11-11|\n|2015-06-14|\n|2016-10-18|\n+----------+\nonly showing top 5 rows\n\nShip_Mode  Distinct Values : \n+--------------+\n|     Ship_Mode|\n+--------------+\n|   First Class|\n|      Same Day|\n|  Second Class|\n|Standard Class|\n+--------------+\n\nCustomer_ID  Distinct Values : \n+-----------+\n|Customer_ID|\n+-----------+\n|   IM/15070|\n|   SO/20335|\n|   AA/10480|\n|   CG/12520|\n|   DV/13045|\n+-----------+\nonly showing top 5 rows\n\nProduct_ID  Distinct Values : \n+---------------+\n|     Product_ID|\n+---------------+\n|OFF-LA-10000240|\n|FUR-TA-10000577|\n|OFF-ST-10000760|\n|FUR-BO-10001798|\n|FUR-FU-10001487|\n+---------------+\nonly showing top 5 rows\n\nSales  Distinct Values : \n+------------+\n|       Sales|\n+------------+\n|    335520.0|\n|   3929400.0|\n|    732900.0|\n|1.43636625E7|\n|   1.09791E7|\n+------------+\nonly showing top 5 rows\n\nDiscount  Distinct Values : \n+--------+\n|Discount|\n+--------+\n|    0.03|\n|    0.01|\n|    0.02|\n+--------+\n\n"
     ]
    }
   ],
   "source": [
    "def lust_all_distinct_values(src):\n",
    "    for data_frame in src:\n",
    "        print(data_frame, \" Columns\")\n",
    "        dataframe_columns = data_frame.columns\n",
    "        for col in dataframe_columns:\n",
    "            print(col, \" Distinct Values : \")\n",
    "            data_frame.select(col).distinct().show(5)\n",
    "lust_all_distinct_values(source_df)"
   ]
  },
  {
   "cell_type": "code",
   "execution_count": 0,
   "metadata": {
    "application/vnd.databricks.v1+cell": {
     "cellMetadata": {},
     "inputWidgets": {},
     "nuid": "0ec53b68-ed6b-4575-8b01-71bbe73d5125",
     "showTitle": false,
     "title": ""
    }
   },
   "outputs": [],
   "source": []
  }
 ],
 "metadata": {
  "application/vnd.databricks.v1+notebook": {
   "dashboards": [],
   "language": "python",
   "notebookMetadata": {
    "mostRecentlyExecutedCommandWithImplicitDF": {
     "commandId": -1,
     "dataframes": [
      "_sqldf"
     ]
    },
    "pythonIndentUnit": 4
   },
   "notebookName": "Data Analysis",
   "widgets": {}
  }
 },
 "nbformat": 4,
 "nbformat_minor": 0
}
